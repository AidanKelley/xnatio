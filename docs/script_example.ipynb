{
 "cells": [
  {
   "cell_type": "raw",
   "metadata": {
    "raw_mimetype": "text/restructuredtext"
   },
   "source": [
    "Example (Without UI)\n",
    "====================\n",
    "\n",
    ".. note::\n",
    "   I believe that xnatio is far easier to use with the UI methods,\n",
    "   but equivalent, non-UI methods are also provided. You could also decide to use a mixture of\n",
    "   UI and non-UI methods.\n",
    "   \n",
    ".. warning::\n",
    "   It is possible to select the paths to data programmatically using the XnatUI.select_path() method,\n",
    "   but it is highly discouraged, as the way the program handles the paths is probably confusing.\n",
    "   Plus, the UI to select paths is easy and efficient."
   ]
  },
  {
   "cell_type": "code",
   "execution_count": null,
   "metadata": {},
   "outputs": [],
   "source": [
    "import xnatio\n",
    "\n",
    "server = \"https://your.server.url\"\n",
    "options = {\n",
    "    \"force_ssl\":False\n",
    "}\n",
    "\n",
    "username = \"username\"\n",
    "password = \"password\"\n",
    "\n",
    "xnat = xnatio.XnatUI(server, options)\n",
    "xnat.get_login(username, password)\n",
    "xnat.select_projects(['DIAN_011'])\n",
    "xnat.get_subjects().add_group({\"insert_user\":\"dan\"}, \"Test Subjects\")\n",
    "xnat.get_experiment(\"dian:cdrsuppData\")\n",
    "xnat.get_subjects().data_ui()"
   ]
  }
 ],
 "metadata": {
  "celltoolbar": "Raw Cell Format",
  "kernelspec": {
   "display_name": "Python 3",
   "language": "python",
   "name": "python3"
  },
  "language_info": {
   "codemirror_mode": {
    "name": "ipython",
    "version": 3
   },
   "file_extension": ".py",
   "mimetype": "text/x-python",
   "name": "python",
   "nbconvert_exporter": "python",
   "pygments_lexer": "ipython3",
   "version": "3.6.5"
  }
 },
 "nbformat": 4,
 "nbformat_minor": 2
}
