{
 "cells": [
  {
   "cell_type": "raw",
   "metadata": {
    "raw_mimetype": "text/restructuredtext"
   },
   "source": [
    "Example (Without UI)\n",
    "====================\n",
    "\n",
    ".. note::\n",
    "   I believe that xnatio is far easier to use with the UI methods,\n",
    "   but equivalent, non-UI methods are also provided. You could also decide to use a mixture of\n",
    "   UI and non-UI methods.\n",
    "   \n",
    ".. warning::\n",
    "   It is possible to select the paths to data programmatically using the SubjectData.select_path() method,\n",
    "   but it is highly discouraged, as the way the program handles the paths is probably confusing.\n",
    "   Plus, the UI to select paths is easy and efficient."
   ]
  },
  {
   "cell_type": "code",
   "execution_count": null,
   "metadata": {},
   "outputs": [],
   "source": [
    "import xnatio\n",
    "\n",
    "server = \"https://your.server.url\"\n",
    "options = {\n",
    "    \"force_ssl\":True\n",
    "}\n",
    "\n",
    "# initialize the object with the server URL and options\n",
    "xnat = xnatio.XnatUI(server, options)\n",
    "\n",
    "username = \"username\"\n",
    "password = \"password\"\n",
    "\n",
    "# gets the access token\n",
    "xnat.get_login(username, password)\n",
    "\n",
    "# select a list of projects to gather subject data from\n",
    "xnat.select_projects(['DIAN_011'])\n",
    "\n",
    "# creates a group of subjects based on their parameters\n",
    "xnat.get_subjects().add_group({\"insert_user\":[\"dan\"]}, \"Test Subjects\")\n",
    "\n",
    "# for all subjects in the selected subject group(s), get all experiments of the supplied xsi:type\n",
    "xnat.get_experiment(\"dian:cdrsuppData\")\n",
    "\n",
    "# gets the UI for selecting data\n",
    "xnat.get_subjects().data_ui()"
   ]
  },
  {
   "cell_type": "code",
   "execution_count": null,
   "metadata": {},
   "outputs": [],
   "source": [
    "# programmatically add a calculated column\n",
    "\n",
    "xnat.get_subjects().add_column('age', '`date` - `dob`', {\n",
    "    'date':'/experiments/dian:cdrsuppData/data_fields/date',\n",
    "    'dob':'/dob'\n",
    "})"
   ]
  }
 ],
 "metadata": {
  "celltoolbar": "Raw Cell Format",
  "kernelspec": {
   "display_name": "Python 3",
   "language": "python",
   "name": "python3"
  },
  "language_info": {
   "codemirror_mode": {
    "name": "ipython",
    "version": 3
   },
   "file_extension": ".py",
   "mimetype": "text/x-python",
   "name": "python",
   "nbconvert_exporter": "python",
   "pygments_lexer": "ipython3",
   "version": "3.6.5"
  }
 },
 "nbformat": 4,
 "nbformat_minor": 2
}
