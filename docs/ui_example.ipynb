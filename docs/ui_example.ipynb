{
 "cells": [
  {
   "cell_type": "raw",
   "metadata": {
    "raw_mimetype": "text/restructuredtext"
   },
   "source": [
    "Example (with UI)\n",
    "=================\n",
    "\n",
    "Make sure you have first installed xnatio\n",
    "\n",
    "* :ref:`install`"
   ]
  },
  {
   "cell_type": "code",
   "execution_count": null,
   "metadata": {},
   "outputs": [],
   "source": [
    "import xnatio"
   ]
  },
  {
   "cell_type": "raw",
   "metadata": {
    "raw_mimetype": "text/restructuredtext"
   },
   "source": [
    "Initialize an XnatUI object\n",
    "---------------------------\n",
    "\n",
    ".. note::\n",
    "   The \"force_ssl\" option defaults to true and ensures your connection is secure.\n",
    "   However, if you know what you are doing, ssl verification can be disabled by setting this\n",
    "   parameter to false."
   ]
  },
  {
   "cell_type": "code",
   "execution_count": null,
   "metadata": {},
   "outputs": [],
   "source": [
    "server = \"https://\"\n",
    "options = {\n",
    "    \"force_ssl\": True\n",
    "}\n",
    "\n",
    "xnat = xnatio.XnatUI(server, options)\n",
    "xnat.display_login_ui();"
   ]
  },
  {
   "cell_type": "raw",
   "metadata": {
    "raw_mimetype": "text/restructuredtext"
   },
   "source": [
    "Select Projects\n",
    "---------------\n",
    "\n",
    "Get a dropdown menu of available projects that can be used to select projects\n",
    "\n",
    ".. note::\n",
    "   Note the lack of a semicolon. In the Jupyter Notebook, a semicolon suppresses output,\n",
    "   which would prevent the UI output from showing."
   ]
  },
  {
   "cell_type": "code",
   "execution_count": null,
   "metadata": {},
   "outputs": [],
   "source": [
    "xnat.select_projects_ui()"
   ]
  },
  {
   "cell_type": "raw",
   "metadata": {
    "raw_mimetype": "text/restructuredtext"
   },
   "source": [
    "Create Subject Groups\n",
    "---------------------\n",
    "\n",
    "Get a UI to select subjects to get experiment data from. To set parameters for the group,\n",
    "use the checkboxes in the accordian menus. For a subject to be a member of a group,\n",
    "they must satisfy all of the parameters."
   ]
  },
  {
   "cell_type": "code",
   "execution_count": null,
   "metadata": {},
   "outputs": [],
   "source": [
    "xnat.add_groups_ui()"
   ]
  },
  {
   "cell_type": "raw",
   "metadata": {
    "raw_mimetype": "text/restructuredtext"
   },
   "source": [
    "Select Groups (Optional)\n",
    "------------------------\n",
    "\n",
    "Optionally, use this UI to select which of the previously created groups to get data from"
   ]
  },
  {
   "cell_type": "code",
   "execution_count": null,
   "metadata": {},
   "outputs": [],
   "source": [
    "xnat.select_groups_ui()"
   ]
  },
  {
   "cell_type": "raw",
   "metadata": {
    "raw_mimetype": "text/restructuredtext"
   },
   "source": [
    "Select Experiments\n",
    "------------------\n",
    "\n",
    "From a dropdown menu, select which type of experiments to get"
   ]
  },
  {
   "cell_type": "code",
   "execution_count": null,
   "metadata": {},
   "outputs": [],
   "source": [
    "xnat.select_experiments_ui()"
   ]
  },
  {
   "cell_type": "raw",
   "metadata": {
    "raw_mimetype": "text/restructuredtext"
   },
   "source": [
    "Select Data\n",
    "-----------\n",
    "\n",
    "From a series of dropdown menus and using the buttons to move forward and backwards,\n",
    "select which paths you would like to get"
   ]
  },
  {
   "cell_type": "code",
   "execution_count": null,
   "metadata": {},
   "outputs": [],
   "source": [
    "xnat.data_ui()"
   ]
  },
  {
   "cell_type": "raw",
   "metadata": {
    "raw_mimetype": "text/restructuredtext"
   },
   "source": [
    "Add Calculated Columns\n",
    "----------------------\n",
    "\n",
    "Use this UI method to add calculated columns, such as one that calculates the age of a subject\n",
    "at the time of an experiment by subtracting the age from the date."
   ]
  },
  {
   "cell_type": "code",
   "execution_count": null,
   "metadata": {},
   "outputs": [],
   "source": [
    "xnat.add_column_ui()"
   ]
  },
  {
   "cell_type": "raw",
   "metadata": {
    "raw_mimetype": "text/restructuredtext"
   },
   "source": [
    "Get Data\n",
    "--------\n",
    "\n",
    "Aggregates and gets the selected data paths\n",
    "\n",
    ".. note::\n",
    "   the \"format\" option defaults to \"points\", which returns a list of dict data points,\n",
    "   but it can also be set to \"lists\", which returns a dict where the keys are the names of the variables,\n",
    "   and the values are lists, such that each index represents a specific subject."
   ]
  },
  {
   "cell_type": "code",
   "execution_count": null,
   "metadata": {},
   "outputs": [],
   "source": [
    "options = {\n",
    "    \"format\":\"points\" #or \"format\":\"lists\"\n",
    "}\n",
    "\n",
    "data = xnat.get_subjects().get_data(options)\n",
    "data"
   ]
  },
  {
   "cell_type": "raw",
   "metadata": {
    "raw_mimetype": "text/restructuredtext"
   },
   "source": [
    "Final Thoughts\n",
    "--------------\n",
    "\n",
    "Now that you have the data, aggregated and in a useable format, you can do whatever you want with it."
   ]
  }
 ],
 "metadata": {
  "celltoolbar": "Raw Cell Format",
  "kernelspec": {
   "display_name": "Python 3",
   "language": "python",
   "name": "python3"
  },
  "language_info": {
   "codemirror_mode": {
    "name": "ipython",
    "version": 3
   },
   "file_extension": ".py",
   "mimetype": "text/x-python",
   "name": "python",
   "nbconvert_exporter": "python",
   "pygments_lexer": "ipython3",
   "version": "3.6.5"
  }
 },
 "nbformat": 4,
 "nbformat_minor": 1
}
