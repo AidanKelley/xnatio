{
 "cells": [
  {
   "cell_type": "raw",
   "metadata": {
    "raw_mimetype": "text/restructuredtext"
   },
   "source": [
    "Example (with UI)\n",
    "=================\n",
    "\n",
    "Make sure you have first installed xnatio\n",
    "\n",
    "* :ref:`install`"
   ]
  },
  {
   "cell_type": "code",
   "execution_count": null,
   "metadata": {},
   "outputs": [],
   "source": [
    "import xnatio"
   ]
  },
  {
   "cell_type": "raw",
   "metadata": {
    "raw_mimetype": "text/restructuredtext"
   },
   "source": [
    "Initialize an XnatUI object\n",
    "---------------------------\n",
    "\n",
    ".. note::\n",
    "   The \"force_ssl\" option defaults to true and ensures your connection is secure.\n",
    "   However, if you know what you are doing, ssl verification can be disabled by setting this\n",
    "   parameter to false."
   ]
  },
  {
   "cell_type": "code",
   "execution_count": null,
   "metadata": {},
   "outputs": [],
   "source": [
    "server = \"https://your.server.url\"\n",
    "options = {\n",
    "    \"force_ssl\": True\n",
    "}\n",
    "\n",
    "xnat = xnatio.XnatUI(server, options)\n",
    "xnat.display_login_ui();"
   ]
  },
  {
   "cell_type": "raw",
   "metadata": {
    "raw_mimetype": "text/restructuredtext"
   },
   "source": [
    "Select Projects\n",
    "---------------\n",
    "\n",
    "Get a dropdown menu of available projects that can be used to select projects\n",
    "\n",
    ".. note::\n",
    "   Note the lack of a semicolon. In the Jupyter Notebook, a semicolon suppresses output,\n",
    "   which would prevent the UI output from showing."
   ]
  },
  {
   "cell_type": "code",
   "execution_count": null,
   "metadata": {},
   "outputs": [],
   "source": [
    "xnat.select_projects_ui()"
   ]
  },
  {
   "cell_type": "raw",
   "metadata": {
    "raw_mimetype": "text/restructuredtext"
   },
   "source": [
    "Create Subject Groups\n",
    "---------------------\n",
    "\n",
    "Get a UI to select subjects to get experiment data from"
   ]
  },
  {
   "cell_type": "code",
   "execution_count": null,
   "metadata": {},
   "outputs": [],
   "source": [
    "xnat.get_subjects().add_groups_ui()"
   ]
  },
  {
   "cell_type": "raw",
   "metadata": {
    "raw_mimetype": "text/restructuredtext"
   },
   "source": [
    "Select Groups (Optional)\n",
    "------------------------\n",
    "\n",
    "Optionally, use this UI to select which of the previously created groups to get data from"
   ]
  },
  {
   "cell_type": "code",
   "execution_count": null,
   "metadata": {},
   "outputs": [],
   "source": [
    "xnat.get_subjects().select_groups_ui()"
   ]
  }
 ],
 "metadata": {
  "celltoolbar": "Raw Cell Format",
  "kernelspec": {
   "display_name": "Python 3",
   "language": "python",
   "name": "python3"
  },
  "language_info": {
   "codemirror_mode": {
    "name": "ipython",
    "version": 3
   },
   "file_extension": ".py",
   "mimetype": "text/x-python",
   "name": "python",
   "nbconvert_exporter": "python",
   "pygments_lexer": "ipython3",
   "version": "3.6.5"
  }
 },
 "nbformat": 4,
 "nbformat_minor": 1
}
